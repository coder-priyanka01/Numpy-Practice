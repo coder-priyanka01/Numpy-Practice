{
 "cells": [
  {
   "cell_type": "code",
   "execution_count": 1,
   "id": "426cb40b-68be-487a-a321-e01b7f09ba7f",
   "metadata": {},
   "outputs": [],
   "source": [
    "import numpy as np"
   ]
  },
  {
   "cell_type": "markdown",
   "id": "893f0f78-36be-42ef-ab8b-5675e592bc18",
   "metadata": {},
   "source": [
    "Valid Sudoku"
   ]
  },
  {
   "cell_type": "code",
   "execution_count": 2,
   "id": "95a1220f-3266-4c9d-abd5-dfe35ccc1f50",
   "metadata": {},
   "outputs": [],
   "source": [
    "s = np.array([\n",
    "    [5, 3, 4, 6, 7, 8, 9, 1, 2], \n",
    "    [6, 7, 2, 1, 9, 5, 3, 4, 8], \n",
    "    [1, 9, 8, 3, 4, 2, 5, 6, 7],\n",
    "\n",
    "    [8, 5, 9, 7, 6, 1, 4, 2, 3], \n",
    "    [4, 2, 6, 8, 5, 3, 7, 9, 1],\n",
    "    [7, 1, 3, 9, 2, 4, 8, 5, 6],\n",
    "\n",
    "    [9, 6, 1, 5, 3, 7, 2, 8, 4],\n",
    "    [2, 8, 7, 4, 1, 9, 6, 3, 5],\n",
    "    [3, 4, 5, 2, 8, 6, 1, 7, 9]\n",
    "])"
   ]
  },
  {
   "cell_type": "code",
   "execution_count": 3,
   "id": "e3a8affe-2e19-4570-8815-960b28171a54",
   "metadata": {},
   "outputs": [
    {
     "data": {
      "text/plain": [
       "[array([ True,  True,  True,  True,  True,  True,  True,  True,  True])]"
      ]
     },
     "execution_count": 3,
     "metadata": {},
     "output_type": "execute_result"
    }
   ],
   "source": [
    "b = np.sum(s, axis = 1)\n",
    "[b == 45]"
   ]
  },
  {
   "cell_type": "code",
   "execution_count": 4,
   "id": "b3551cfb-92aa-4de4-b23f-324c4495c455",
   "metadata": {},
   "outputs": [
    {
     "name": "stdout",
     "output_type": "stream",
     "text": [
      "For rows it is valid\n",
      "For rows it is valid\n",
      "For rows it is valid\n",
      "For rows it is valid\n",
      "For rows it is valid\n",
      "For rows it is valid\n",
      "For rows it is valid\n",
      "For rows it is valid\n",
      "For rows it is valid\n"
     ]
    }
   ],
   "source": [
    "for i in b:\n",
    "    if i != 45:\n",
    "        print(\"sudoku is not valid\")\n",
    "        break\n",
    "    else:\n",
    "        print(\"For rows it is valid\")"
   ]
  },
  {
   "cell_type": "code",
   "execution_count": 5,
   "id": "e420902f-17bc-4e6a-9337-4594e45a6b42",
   "metadata": {},
   "outputs": [
    {
     "name": "stdout",
     "output_type": "stream",
     "text": [
      "For columns it is valid\n",
      "For columns it is valid\n",
      "For columns it is valid\n",
      "For columns it is valid\n",
      "For columns it is valid\n",
      "For columns it is valid\n",
      "For columns it is valid\n",
      "For columns it is valid\n",
      "For columns it is valid\n"
     ]
    }
   ],
   "source": [
    "c = np.sum(s, axis = 0)\n",
    "for i in b:\n",
    "    if i != 45:\n",
    "        print(\"sudoku is not valid\")\n",
    "        break\n",
    "    else:\n",
    "        print(\"For columns it is valid\")"
   ]
  },
  {
   "cell_type": "code",
   "execution_count": 6,
   "id": "2023fb5f-3a1f-442c-add4-acf94b4444d7",
   "metadata": {},
   "outputs": [
    {
     "data": {
      "text/plain": [
       "array([[5, 3, 4],\n",
       "       [6, 7, 2],\n",
       "       [1, 9, 8]])"
      ]
     },
     "execution_count": 6,
     "metadata": {},
     "output_type": "execute_result"
    }
   ],
   "source": [
    "s[:3, :3]"
   ]
  },
  {
   "cell_type": "code",
   "execution_count": 7,
   "id": "212d40a5-ace6-45c9-9074-13d0558b9fe2",
   "metadata": {},
   "outputs": [
    {
     "data": {
      "text/plain": [
       "array([[6, 7, 8],\n",
       "       [1, 9, 5],\n",
       "       [3, 4, 2]])"
      ]
     },
     "execution_count": 7,
     "metadata": {},
     "output_type": "execute_result"
    }
   ],
   "source": [
    "s[:3, 3:6]"
   ]
  },
  {
   "cell_type": "code",
   "execution_count": 8,
   "id": "20f92d9c-6d68-4264-9c39-63461fb1d58b",
   "metadata": {},
   "outputs": [
    {
     "data": {
      "text/plain": [
       "array([[9, 1, 2],\n",
       "       [3, 4, 8],\n",
       "       [5, 6, 7]])"
      ]
     },
     "execution_count": 8,
     "metadata": {},
     "output_type": "execute_result"
    }
   ],
   "source": [
    "s[:3, 6:9]"
   ]
  },
  {
   "cell_type": "code",
   "execution_count": 9,
   "id": "81caf5a3-ff7e-43cb-811c-2c68ca5124e8",
   "metadata": {},
   "outputs": [
    {
     "name": "stdout",
     "output_type": "stream",
     "text": [
      "45\n",
      "45\n",
      "45\n",
      "45\n",
      "45\n",
      "45\n",
      "45\n",
      "45\n",
      "45\n"
     ]
    }
   ],
   "source": [
    "for i in range(0,9,3):\n",
    "    for j in range(0,9,3):\n",
    "        n = s[i:i+3, j:j+3]\n",
    "        print(n.sum())"
   ]
  },
  {
   "cell_type": "markdown",
   "id": "24f8c0ab-9499-47ed-9fae-d47b6bb603a8",
   "metadata": {},
   "source": [
    "General Questions"
   ]
  },
  {
   "cell_type": "code",
   "execution_count": 10,
   "id": "923f215e-2187-4388-909b-b31505666878",
   "metadata": {},
   "outputs": [],
   "source": [
    "import numpy as np\n",
    "\n",
    "# columns: [Age, Math Marks, Science Marks]\n",
    "data = np.array([\n",
    "    [18, 85, 78],  #student1\n",
    "    [19, 92, 88],  #student2\n",
    "    [17, 76, 95],  #student3\n",
    "    [18, 65, 70],  #student4\n",
    "    [20, 90, 85]   #student5\n",
    "])"
   ]
  },
  {
   "cell_type": "code",
   "execution_count": 11,
   "id": "5eb9a4a3-4496-413e-bd3a-4ff98ef7b51a",
   "metadata": {},
   "outputs": [
    {
     "data": {
      "text/plain": [
       "(5, 3)"
      ]
     },
     "execution_count": 11,
     "metadata": {},
     "output_type": "execute_result"
    }
   ],
   "source": [
    "#Get the shape of the matrix.\n",
    "data.shape"
   ]
  },
  {
   "cell_type": "code",
   "execution_count": 12,
   "id": "db7231ae-b891-45d5-bdb2-f1956142fd53",
   "metadata": {},
   "outputs": [
    {
     "data": {
      "text/plain": [
       "18.4"
      ]
     },
     "execution_count": 12,
     "metadata": {},
     "output_type": "execute_result"
    }
   ],
   "source": [
    "#Find the average age of students.\n",
    "np.mean(data[:, 0])"
   ]
  },
  {
   "cell_type": "code",
   "execution_count": 13,
   "id": "6f7fe80f-abd1-4eed-9d59-ea0c443e8b80",
   "metadata": {},
   "outputs": [
    {
     "data": {
      "text/plain": [
       "array([85, 92, 76, 65, 90])"
      ]
     },
     "execution_count": 13,
     "metadata": {},
     "output_type": "execute_result"
    }
   ],
   "source": [
    "#Extract Math Marks of all students.\n",
    "data[:, 1]"
   ]
  },
  {
   "cell_type": "code",
   "execution_count": 14,
   "id": "0ac0009a-8930-48ed-840f-aa2c856d24ef",
   "metadata": {},
   "outputs": [
    {
     "data": {
      "text/plain": [
       "95"
      ]
     },
     "execution_count": 14,
     "metadata": {},
     "output_type": "execute_result"
    }
   ],
   "source": [
    "#Find the highest Science mark.\n",
    "np.max(data[:, 2])"
   ]
  },
  {
   "cell_type": "code",
   "execution_count": 15,
   "id": "977b08b3-03fb-4007-aa2f-6dc444a154d5",
   "metadata": {},
   "outputs": [
    {
     "data": {
      "text/plain": [
       "array([[19, 92, 88]])"
      ]
     },
     "execution_count": 15,
     "metadata": {},
     "output_type": "execute_result"
    }
   ],
   "source": [
    "#Get details of the student who scored more than 90 in math.\n",
    "\n",
    "data[data[:, 1] > 90]"
   ]
  },
  {
   "cell_type": "code",
   "execution_count": 16,
   "id": "5fabab8a-0d4a-4073-9f28-92a73579af86",
   "metadata": {},
   "outputs": [
    {
     "data": {
      "text/plain": [
       "array([[18, 90, 78],\n",
       "       [19, 97, 88],\n",
       "       [17, 81, 95],\n",
       "       [18, 70, 70],\n",
       "       [20, 95, 85]])"
      ]
     },
     "execution_count": 16,
     "metadata": {},
     "output_type": "execute_result"
    }
   ],
   "source": [
    "#Increase Math marks of all students by 5.\n",
    "data[:,1] += 5\n",
    "data"
   ]
  },
  {
   "cell_type": "code",
   "execution_count": 17,
   "id": "6c3b3812-83c0-40f4-9b0e-b2ba084e17ba",
   "metadata": {},
   "outputs": [
    {
     "data": {
      "text/plain": [
       "3"
      ]
     },
     "execution_count": 17,
     "metadata": {},
     "output_type": "execute_result"
    }
   ],
   "source": [
    "# Find how many students are younger than 19.\n",
    "len(data[data[:, 0] < 19])"
   ]
  },
  {
   "cell_type": "code",
   "execution_count": 18,
   "id": "a2cc73f3-6004-4c69-9e7b-f0107f813901",
   "metadata": {},
   "outputs": [
    {
     "data": {
      "text/plain": [
       "array([86.6, 83.2])"
      ]
     },
     "execution_count": 18,
     "metadata": {},
     "output_type": "execute_result"
    }
   ],
   "source": [
    "#Calculate the average marks in each subject (column-wise mean).\n",
    "np.mean(data[:, 1:], axis = 0)"
   ]
  },
  {
   "cell_type": "code",
   "execution_count": 19,
   "id": "14261479-2677-4aaf-9d38-dfdc46909afb",
   "metadata": {},
   "outputs": [
    {
     "data": {
      "text/plain": [
       "array([[19, 97, 88],\n",
       "       [17, 81, 95],\n",
       "       [20, 95, 85]])"
      ]
     },
     "execution_count": 19,
     "metadata": {},
     "output_type": "execute_result"
    }
   ],
   "source": [
    "#Get data of students who scored at least 80 in both subjects.\n",
    "data[(data[:, 1] >= 80) & (data[:, 2] >= 80)]"
   ]
  },
  {
   "cell_type": "code",
   "execution_count": 20,
   "id": "6836c991-fc33-4ef2-a5ef-7b82163cdce0",
   "metadata": {},
   "outputs": [],
   "source": [
    "# Replace all science marks < 75 with 0.\n",
    "data[:, 2][data[:, 2] < 75] = 0"
   ]
  },
  {
   "cell_type": "code",
   "execution_count": 21,
   "id": "b3a85337-4696-4fb5-9b85-9e62bd0acfd9",
   "metadata": {},
   "outputs": [
    {
     "data": {
      "text/plain": [
       "array([[18, 90, 78],\n",
       "       [19, 97, 88],\n",
       "       [17, 81, 95],\n",
       "       [18, 70,  0],\n",
       "       [20, 95, 85]])"
      ]
     },
     "execution_count": 21,
     "metadata": {},
     "output_type": "execute_result"
    }
   ],
   "source": [
    "data"
   ]
  }
 ],
 "metadata": {
  "kernelspec": {
   "display_name": "Python 3 (ipykernel)",
   "language": "python",
   "name": "python3"
  },
  "language_info": {
   "codemirror_mode": {
    "name": "ipython",
    "version": 3
   },
   "file_extension": ".py",
   "mimetype": "text/x-python",
   "name": "python",
   "nbconvert_exporter": "python",
   "pygments_lexer": "ipython3",
   "version": "3.12.7"
  }
 },
 "nbformat": 4,
 "nbformat_minor": 5
}
