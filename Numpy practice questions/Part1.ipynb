{
 "cells": [
  {
   "cell_type": "markdown",
   "id": "7c12d730-f637-4d03-bc35-1da82901b995",
   "metadata": {},
   "source": [
    "# Array Creation & Attributes"
   ]
  },
  {
   "cell_type": "code",
   "execution_count": 20,
   "id": "db55a550-77a6-4d7a-83e2-05926004a7ac",
   "metadata": {},
   "outputs": [],
   "source": [
    "# 1. Import the Numpy library with the alias np.\n",
    "import numpy as np"
   ]
  },
  {
   "cell_type": "code",
   "execution_count": 22,
   "id": "3c2e9ddb-c50a-49d3-ad68-5a610ffee4ae",
   "metadata": {},
   "outputs": [
    {
     "data": {
      "text/plain": [
       "array([1, 2, 3, 4, 5])"
      ]
     },
     "execution_count": 22,
     "metadata": {},
     "output_type": "execute_result"
    }
   ],
   "source": [
    "# 2. Create a 1D Numpy array from the python list[1, 2, 3, 4, 5].\n",
    "arr = np.array([1, 2, 3, 4, 5])\n",
    "arr"
   ]
  },
  {
   "cell_type": "code",
   "execution_count": 26,
   "id": "d2b024dc-d8ea-4e63-b1ba-f47ceb2a7508",
   "metadata": {},
   "outputs": [
    {
     "data": {
      "text/plain": [
       "array([0, 0, 0, 0, 0, 0, 0, 0, 0, 0])"
      ]
     },
     "execution_count": 26,
     "metadata": {},
     "output_type": "execute_result"
    }
   ],
   "source": [
    "# 3. Create a 1D array of 10 zeros.\n",
    "arr = np.zeros(10, dtype=int)\n",
    "arr"
   ]
  },
  {
   "cell_type": "code",
   "execution_count": 29,
   "id": "c2c93cb0-0478-4fb8-ac47-a0549e99d269",
   "metadata": {},
   "outputs": [
    {
     "data": {
      "text/plain": [
       "array([[1., 1., 1.],\n",
       "       [1., 1., 1.],\n",
       "       [1., 1., 1.]])"
      ]
     },
     "execution_count": 29,
     "metadata": {},
     "output_type": "execute_result"
    }
   ],
   "source": [
    "# 4. Create a 3X3 array filled with ones.\n",
    "arr = np.ones((3, 3))\n",
    "arr"
   ]
  },
  {
   "cell_type": "code",
   "execution_count": 31,
   "id": "aad6f66f-7179-4bbf-9036-5b9b26309179",
   "metadata": {},
   "outputs": [
    {
     "data": {
      "text/plain": [
       "array([10, 12, 14, 16, 18, 20, 22, 24, 26, 28, 30, 32, 34, 36, 38, 40, 42,\n",
       "       44, 46, 48, 50])"
      ]
     },
     "execution_count": 31,
     "metadata": {},
     "output_type": "execute_result"
    }
   ],
   "source": [
    "# 5. Create an array of all even integers from 10 to 50.\n",
    "arr = np.arange(10, 51, 2)\n",
    "arr"
   ]
  },
  {
   "cell_type": "code",
   "execution_count": 33,
   "id": "70cd542a-a286-45e0-88d4-1b782a8ca665",
   "metadata": {},
   "outputs": [
    {
     "data": {
      "text/plain": [
       "array([[0, 1, 2],\n",
       "       [3, 4, 5],\n",
       "       [6, 7, 8]])"
      ]
     },
     "execution_count": 33,
     "metadata": {},
     "output_type": "execute_result"
    }
   ],
   "source": [
    "# 6. Create a 3X3 matrix with values ranging from 0 to 8.\n",
    "arr = np.arange(9).reshape(3, 3)\n",
    "arr"
   ]
  },
  {
   "cell_type": "code",
   "execution_count": 34,
   "id": "39f3a01a-3047-4ef3-9825-435857822273",
   "metadata": {},
   "outputs": [
    {
     "data": {
      "text/plain": [
       "array([[1., 0., 0., 0.],\n",
       "       [0., 1., 0., 0.],\n",
       "       [0., 0., 1., 0.],\n",
       "       [0., 0., 0., 1.]])"
      ]
     },
     "execution_count": 34,
     "metadata": {},
     "output_type": "execute_result"
    }
   ],
   "source": [
    "# 7. Create a 4X4 identity matrix.\n",
    "arr = np.eye(4)\n",
    "arr"
   ]
  },
  {
   "cell_type": "code",
   "execution_count": 36,
   "id": "68c7f99a-8158-4f74-a55d-4529c6041eb2",
   "metadata": {},
   "outputs": [
    {
     "data": {
      "text/plain": [
       "array([0.  , 0.25, 0.5 , 0.75, 1.  ])"
      ]
     },
     "execution_count": 36,
     "metadata": {},
     "output_type": "execute_result"
    }
   ],
   "source": [
    "# 8. Create an array of 5 numbers evenly spaced between 0 to 1.\n",
    "arr = np.linspace(0, 1, 5)\n",
    "arr"
   ]
  },
  {
   "cell_type": "code",
   "execution_count": 55,
   "id": "81ac0a32-28f8-4215-a95d-8f8f4f7a913a",
   "metadata": {},
   "outputs": [
    {
     "data": {
      "text/plain": [
       "array([[0.16964842, 0.43128932, 0.8198002 , 0.15385293],\n",
       "       [0.97584483, 0.72008311, 0.08674372, 0.67803415],\n",
       "       [0.55902661, 0.15915098, 0.21844881, 0.61838943]])"
      ]
     },
     "execution_count": 55,
     "metadata": {},
     "output_type": "execute_result"
    }
   ],
   "source": [
    "# 9. Create a 3X4 array filled with random numbers between 0 to 1.\n",
    "arr = np.random.rand(3, 4)\n",
    "arr"
   ]
  },
  {
   "cell_type": "code",
   "execution_count": 56,
   "id": "69051feb-6dff-446b-9659-97698ce82cb5",
   "metadata": {},
   "outputs": [
    {
     "data": {
      "text/plain": [
       "array([[92, 17, 37, 97, 50],\n",
       "       [83, 84, 92, 30, 57],\n",
       "       [25, 42, 17, 21, 47],\n",
       "       [ 4, 44, 96, 91, 87],\n",
       "       [45, 74, 97, 60, 29]])"
      ]
     },
     "execution_count": 56,
     "metadata": {},
     "output_type": "execute_result"
    }
   ],
   "source": [
    "# 10. Create a 5X5 array with random integers from 1 to 100.\n",
    "arr = np.random.randint(1, 101, size =( 5, 5))\n",
    "arr"
   ]
  },
  {
   "cell_type": "code",
   "execution_count": 57,
   "id": "8b11a528-3405-404e-bdd6-178f7ab80bae",
   "metadata": {},
   "outputs": [
    {
     "data": {
      "text/plain": [
       "array([[ 0,  1,  2,  3,  4],\n",
       "       [ 5,  6,  7,  8,  9],\n",
       "       [10, 11, 12, 13, 14],\n",
       "       [15, 16, 17, 18, 19],\n",
       "       [20, 21, 22, 23, 24]])"
      ]
     },
     "execution_count": 57,
     "metadata": {},
     "output_type": "execute_result"
    }
   ],
   "source": [
    "# 11. Given the array arr = np.arange(25).reshape(5, 5). Find its shape.\n",
    "arr = np.arange(25).reshape(5, 5)\n",
    "arr"
   ]
  },
  {
   "cell_type": "code",
   "execution_count": 58,
   "id": "950f9ebc-6e67-4b57-9526-de5dc0ac7695",
   "metadata": {},
   "outputs": [
    {
     "data": {
      "text/plain": [
       "(5, 5)"
      ]
     },
     "execution_count": 58,
     "metadata": {},
     "output_type": "execute_result"
    }
   ],
   "source": [
    "arr.shape"
   ]
  },
  {
   "cell_type": "code",
   "execution_count": 59,
   "id": "46fdbb16-d736-469c-87d5-8ca730cfb7d1",
   "metadata": {},
   "outputs": [
    {
     "data": {
      "text/plain": [
       "dtype('int32')"
      ]
     },
     "execution_count": 59,
     "metadata": {},
     "output_type": "execute_result"
    }
   ],
   "source": [
    "# 12. For the same array arr, find its data type.\n",
    "arr.dtype"
   ]
  },
  {
   "cell_type": "code",
   "execution_count": 60,
   "id": "4d4b6b7c-a1ca-404a-b96e-9e04a16c23c1",
   "metadata": {},
   "outputs": [
    {
     "data": {
      "text/plain": [
       "25"
      ]
     },
     "execution_count": 60,
     "metadata": {},
     "output_type": "execute_result"
    }
   ],
   "source": [
    "# 13. For the same array arr, find the total number of elements.\n",
    "arr.size"
   ]
  },
  {
   "cell_type": "code",
   "execution_count": 63,
   "id": "16c2535f-9432-443c-a7eb-97c4f7a0ab7b",
   "metadata": {},
   "outputs": [
    {
     "data": {
      "text/plain": [
       "array([1., 2., 3.])"
      ]
     },
     "execution_count": 63,
     "metadata": {},
     "output_type": "execute_result"
    }
   ],
   "source": [
    "# 14. Create the array[1, 2, 3] but make sure its data type is float.\n",
    "arr = np.array([1, 2, 3], dtype= float)\n",
    "arr"
   ]
  },
  {
   "cell_type": "code",
   "execution_count": 67,
   "id": "c6ec6aa7-ffcb-4873-88dc-8b6f7129d2a9",
   "metadata": {},
   "outputs": [],
   "source": [
    "# 15. Convert the data type of an existing integer array to float.\n",
    "int_arr = np.array([1, 2, 3])"
   ]
  },
  {
   "cell_type": "code",
   "execution_count": 68,
   "id": "26e8e011-618d-4acc-a2b3-cc53ac78e1b8",
   "metadata": {},
   "outputs": [],
   "source": [
    "arr = int_arr.astype(float)"
   ]
  },
  {
   "cell_type": "code",
   "execution_count": 69,
   "id": "5bfc222c-f2ef-4699-a200-a80c37a14636",
   "metadata": {},
   "outputs": [
    {
     "data": {
      "text/plain": [
       "array([1., 2., 3.])"
      ]
     },
     "execution_count": 69,
     "metadata": {},
     "output_type": "execute_result"
    }
   ],
   "source": [
    "arr"
   ]
  }
 ],
 "metadata": {
  "kernelspec": {
   "display_name": "Python 3 (ipykernel)",
   "language": "python",
   "name": "python3"
  },
  "language_info": {
   "codemirror_mode": {
    "name": "ipython",
    "version": 3
   },
   "file_extension": ".py",
   "mimetype": "text/x-python",
   "name": "python",
   "nbconvert_exporter": "python",
   "pygments_lexer": "ipython3",
   "version": "3.12.7"
  }
 },
 "nbformat": 4,
 "nbformat_minor": 5
}
